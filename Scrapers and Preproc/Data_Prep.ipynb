{
 "cells": [
  {
   "cell_type": "code",
   "execution_count": 6,
   "metadata": {
    "collapsed": true
   },
   "outputs": [],
   "source": [
    "import matplotlib.pyplot as plt\n",
    "import os, sys\n",
    "import numpy as np\n",
    "import cv2\n",
    "\n"
   ]
  },
  {
   "cell_type": "code",
   "execution_count": 41,
   "metadata": {},
   "outputs": [],
   "source": [
    "#Create list of directories for the picture and check if all shapes are equal.\n",
    "\n",
    "dir_stack = [\"pics_S\",\"pics_erepS\",\"pics_carexportS\"]\n",
    "dir_nums=[] #Number of images per directory\n",
    "shape_list=[]\n",
    "#Check if all shapes are equal and count number of pictures\n",
    "flag_shape=0\n",
    "for dire in dir_stack:\n",
    "    dir_nums.append(len(os.listdir(\"../\"+dire)))\n",
    "    im=cv2.imread(\"../\"+dire+\"/\"+os.listdir(\"../\"+dire)[1])\n",
    "    shape_list.append(im.shape)\n",
    "    if (im.shape!=shape_list[0]):\n",
    "        flag_shape=1\n",
    "if (flag_shape):\n",
    "    print(\"Incoherent shapes in different directories\")\n",
    "\n",
    "num_train_samples=sum(dir_nums)"
   ]
  },
  {
   "cell_type": "code",
   "execution_count": 43,
   "metadata": {},
   "outputs": [
    {
     "name": "stdout",
     "output_type": "stream",
     "text": [
      "Directorires for pictures :\n",
      "['pics_S', 'pics_erepS', 'pics_carexportS']\n",
      "Number of files in those dirs :\n",
      "[498, 603, 365]\n",
      "Total number of training samples :\n",
      "1466\n"
     ]
    }
   ],
   "source": [
    "#Prints\n",
    "\n",
    "print(\"Directorires for pictures :\")\n",
    "print(dir_stack)\n",
    "print(\"Number of files in those dirs :\")\n",
    "print(dir_nums)\n",
    "print(\"Total number of training samples :\")\n",
    "print(num_train_samples)"
   ]
  },
  {
   "cell_type": "code",
   "execution_count": 61,
   "metadata": {
    "collapsed": true
   },
   "outputs": [],
   "source": [
    "x_train = np.zeros((num_train_samples, 250, 400, 3), dtype='uint8')\n",
    "y_train = np.zeros((num_train_samples,), dtype='uint8')"
   ]
  },
  {
   "cell_type": "code",
   "execution_count": 58,
   "metadata": {},
   "outputs": [],
   "source": [
    "#assign label to data\n",
    "#requires csv package\n",
    "def get_label(direc,name):\n",
    "    with open(\"../labels/\"+direc+\".csv\", 'rb') as csvfile:\n",
    "        reader = csv.reader(csvfile, delimiter=',')\n",
    "        for row in reader:\n",
    "            if(row[0]==name):\n",
    "                return(row[1])"
   ]
  },
  {
   "cell_type": "code",
   "execution_count": 70,
   "metadata": {},
   "outputs": [],
   "source": [
    "dire=\"pics_S\"\n",
    "\n",
    "iter=0\n",
    "for dire in dir_stack:\n",
    "    label_dict={\"D\":1,\"C\":0,\"B\":2}\n",
    "    for filename in os.listdir(\"../\"+dire):\n",
    "        pic=cv2.imread(\"../\"+dire+\"/\"+filename)\n",
    "        x_train[iter]=pic\n",
    "        #1 for damaged, 0 for clean\n",
    "        char_lab=get_label(dire,filename)   \n",
    "        y_train[iter]=label_dict[char_lab]\n",
    "        iter +=1\n"
   ]
  },
  {
   "cell_type": "code",
   "execution_count": 71,
   "metadata": {},
   "outputs": [
    {
     "name": "stdout",
     "output_type": "stream",
     "text": [
      "[1 0 1 ..., 2 2 2]\n"
     ]
    }
   ],
   "source": []
  },
  {
   "cell_type": "code",
   "execution_count": null,
   "metadata": {
    "collapsed": true
   },
   "outputs": [],
   "source": []
  }
 ],
 "metadata": {
  "kernelspec": {
   "display_name": "Python 2",
   "language": "python",
   "name": "python2"
  },
  "language_info": {
   "codemirror_mode": {
    "name": "ipython",
    "version": 2
   },
   "file_extension": ".py",
   "mimetype": "text/x-python",
   "name": "python",
   "nbconvert_exporter": "python",
   "pygments_lexer": "ipython2",
   "version": "2.7.10"
  }
 },
 "nbformat": 4,
 "nbformat_minor": 2
}
